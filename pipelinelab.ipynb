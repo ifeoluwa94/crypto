{
 "cells": [
  {
   "cell_type": "code",
   "execution_count": 291,
   "metadata": {},
   "outputs": [
    {
     "data": {
      "text/plain": [
       "'BTC'"
      ]
     },
     "execution_count": 291,
     "metadata": {},
     "output_type": "execute_result"
    }
   ],
   "source": [
    "crypto_list = ['BTC','ETH','XRP','LTC']\n",
    "crypto_list[0]"
   ]
  },
  {
   "cell_type": "code",
   "execution_count": 5,
   "metadata": {},
   "outputs": [],
   "source": [
    "coin1 = 'BTC'\n",
    "\n",
    "if coin1 in ('BTC','LTC','ETH','XRP'):\n",
    "    event ='event'\n",
    "    sql = \"INSERT INTO %s ( %s ) VALUES ( %s );\" % ('eventlog',event,\"'\"+coin1+\"'\") \n",
    "    import psycopg2\n",
    "    conn = psycopg2.connect(host=\"34.105.201.48\",database=\"crypto_db\", user=\"postgres\", password=\"12345\")\n",
    "    cursor = conn.cursor()\n",
    "    cursor.execute(sql)\n",
    "    conn.commit()"
   ]
  },
  {
   "cell_type": "code",
   "execution_count": 7,
   "metadata": {},
   "outputs": [
    {
     "data": {
      "text/plain": [
       "\"INSERT INTO eventlog ( event ) VALUES ( 'BTC' );\""
      ]
     },
     "execution_count": 7,
     "metadata": {},
     "output_type": "execute_result"
    }
   ],
   "source": [
    "sql"
   ]
  },
  {
   "cell_type": "code",
   "execution_count": 309,
   "metadata": {},
   "outputs": [
    {
     "data": {
      "text/plain": [
       "[{'error': 'Too many requests - You have exceeded your API key last 24 hour requests executed limit, please wait for new requests or contact support for upgrading your existing plan.',\n",
       "  'faq_0': 'Q: How requests are calculated? A: The request is a single API call to our REST API without `limit` parameter. Or with `limit` parameter, the request is counted every 100 data points returned by the API.',\n",
       "  'faq_1': 'Q: How I can monitor number of requests left? A: Every authenticated API call providing information about the current state of the limits in the HTTP response headers, more info here: https://docs.coinapi.io/#request-limits',\n",
       "  'faq_2': \"Q: I'm on Professional plan. How I can have more requests? A: Please contact support at the https://www.coinapi.io/support for more information.\",\n",
       "  'faq_3': \"Q: I'm on free plan and I didn't executed 100 requests yet and got 429 error. A: Free plan contains additional limitations to prevent fraud and usage of the multiple free API keys to obey the limits.\"}]"
      ]
     },
     "execution_count": 309,
     "metadata": {},
     "output_type": "execute_result"
    }
   ],
   "source": []
  },
  {
   "cell_type": "code",
   "execution_count": 2,
   "metadata": {},
   "outputs": [
    {
     "ename": "KeyboardInterrupt",
     "evalue": "",
     "output_type": "error",
     "traceback": [
      "\u001b[1;31m---------------------------------------------------------------------------\u001b[0m",
      "\u001b[1;31mOperationalError\u001b[0m                          Traceback (most recent call last)",
      "\u001b[1;32m~\\AppData\\Local\\Continuum\\anaconda3\\lib\\site-packages\\IPython\\core\\interactiveshell.py\u001b[0m in \u001b[0;36mrun_code\u001b[1;34m(self, code_obj, result, async_)\u001b[0m\n\u001b[0;32m   3330\u001b[0m                 \u001b[1;32melse\u001b[0m\u001b[1;33m:\u001b[0m\u001b[1;33m\u001b[0m\u001b[1;33m\u001b[0m\u001b[0m\n\u001b[1;32m-> 3331\u001b[1;33m                     \u001b[0mexec\u001b[0m\u001b[1;33m(\u001b[0m\u001b[0mcode_obj\u001b[0m\u001b[1;33m,\u001b[0m \u001b[0mself\u001b[0m\u001b[1;33m.\u001b[0m\u001b[0muser_global_ns\u001b[0m\u001b[1;33m,\u001b[0m \u001b[0mself\u001b[0m\u001b[1;33m.\u001b[0m\u001b[0muser_ns\u001b[0m\u001b[1;33m)\u001b[0m\u001b[1;33m\u001b[0m\u001b[1;33m\u001b[0m\u001b[0m\n\u001b[0m\u001b[0;32m   3332\u001b[0m             \u001b[1;32mfinally\u001b[0m\u001b[1;33m:\u001b[0m\u001b[1;33m\u001b[0m\u001b[1;33m\u001b[0m\u001b[0m\n",
      "\u001b[1;32m<ipython-input-2-7410474fb1f4>\u001b[0m in \u001b[0;36m<module>\u001b[1;34m\u001b[0m\n\u001b[0;32m      1\u001b[0m \u001b[1;32mimport\u001b[0m \u001b[0mpsycopg2\u001b[0m\u001b[1;33m\u001b[0m\u001b[1;33m\u001b[0m\u001b[0m\n\u001b[1;32m----> 2\u001b[1;33m \u001b[0mconn\u001b[0m \u001b[1;33m=\u001b[0m \u001b[0mpsycopg2\u001b[0m\u001b[1;33m.\u001b[0m\u001b[0mconnect\u001b[0m\u001b[1;33m(\u001b[0m\u001b[0mhost\u001b[0m\u001b[1;33m=\u001b[0m\u001b[1;34m\"34.105.201.48\"\u001b[0m\u001b[1;33m,\u001b[0m\u001b[0mdatabase\u001b[0m\u001b[1;33m=\u001b[0m\u001b[1;34m\"crypto_db\"\u001b[0m\u001b[1;33m,\u001b[0m \u001b[0muser\u001b[0m\u001b[1;33m=\u001b[0m\u001b[1;34m\"postgres\"\u001b[0m\u001b[1;33m,\u001b[0m \u001b[0mpassword\u001b[0m\u001b[1;33m=\u001b[0m\u001b[1;34m\"12345\"\u001b[0m\u001b[1;33m)\u001b[0m\u001b[1;33m\u001b[0m\u001b[1;33m\u001b[0m\u001b[0m\n\u001b[0m\u001b[0;32m      3\u001b[0m \u001b[1;33m\u001b[0m\u001b[0m\n",
      "\u001b[1;32m~\\AppData\\Local\\Continuum\\anaconda3\\lib\\site-packages\\psycopg2\\__init__.py\u001b[0m in \u001b[0;36mconnect\u001b[1;34m(dsn, connection_factory, cursor_factory, **kwargs)\u001b[0m\n\u001b[0;32m    125\u001b[0m     \u001b[0mdsn\u001b[0m \u001b[1;33m=\u001b[0m \u001b[0m_ext\u001b[0m\u001b[1;33m.\u001b[0m\u001b[0mmake_dsn\u001b[0m\u001b[1;33m(\u001b[0m\u001b[0mdsn\u001b[0m\u001b[1;33m,\u001b[0m \u001b[1;33m**\u001b[0m\u001b[0mkwargs\u001b[0m\u001b[1;33m)\u001b[0m\u001b[1;33m\u001b[0m\u001b[1;33m\u001b[0m\u001b[0m\n\u001b[1;32m--> 126\u001b[1;33m     \u001b[0mconn\u001b[0m \u001b[1;33m=\u001b[0m \u001b[0m_connect\u001b[0m\u001b[1;33m(\u001b[0m\u001b[0mdsn\u001b[0m\u001b[1;33m,\u001b[0m \u001b[0mconnection_factory\u001b[0m\u001b[1;33m=\u001b[0m\u001b[0mconnection_factory\u001b[0m\u001b[1;33m,\u001b[0m \u001b[1;33m**\u001b[0m\u001b[0mkwasync\u001b[0m\u001b[1;33m)\u001b[0m\u001b[1;33m\u001b[0m\u001b[1;33m\u001b[0m\u001b[0m\n\u001b[0m\u001b[0;32m    127\u001b[0m     \u001b[1;32mif\u001b[0m \u001b[0mcursor_factory\u001b[0m \u001b[1;32mis\u001b[0m \u001b[1;32mnot\u001b[0m \u001b[1;32mNone\u001b[0m\u001b[1;33m:\u001b[0m\u001b[1;33m\u001b[0m\u001b[1;33m\u001b[0m\u001b[0m\n",
      "\u001b[1;31mOperationalError\u001b[0m: could not connect to server: Connection timed out (0x0000274C/10060)\n\tIs the server running on host \"34.105.201.48\" and accepting\n\tTCP/IP connections on port 5432?\n",
      "\nDuring handling of the above exception, another exception occurred:\n",
      "\u001b[1;31mKeyboardInterrupt\u001b[0m                         Traceback (most recent call last)",
      "\u001b[1;31mKeyboardInterrupt\u001b[0m: "
     ]
    }
   ],
   "source": [
    "import pgdb\n",
    "import pygresql\n",
    "conn = psycopg2.connect(host=\"34.105.201.48\",database=\"crypto_db\", user=\"postgres\", password=\"12345\")\n",
    "conn = psycopg2.connect(host=\"34.105.201.48\",database=\"crypto_db\", user=\"postgres\", password=\"12345\")\n",
    "\n",
    "Date = '2016-01-01'\n",
    "CDate = '2020-05-13'\n",
    "all_crypto_history = []\n",
    "lent = 100\n",
    "crypto_list = ['ETH','XRP','LTC']\n",
    "for crypto in crypto_list:\n",
    "    while Date != CDate:\n",
    "        url = 'https://rest.coinapi.io/v1/ohlcv/'+crypto+'/USD/history?period_id=1DAY&time_start='+Date\n",
    "        headers = {'X-CoinAPI-Key' : '669314B7-AC6A-43D5-A818-B4C8DE0AA149'}   \n",
    "        response = requests.get(url, headers=headers)\n",
    "        lent = len(response.json())\n",
    "        all_crypto_hist = response.json()\n",
    "        Date = all_crypto_hist[lent-1]['time_period_end'][0:10]\n",
    "        all_crypto_history.append(all_crypto_hist)\n",
    "        \n",
    "    for a in range(len(all_crypto_history)):\n",
    "        for b in range(len(all_crypto_history[a])):\n",
    "            mydict = all_crypto_history[a][b]\n",
    "            #columns = ', '.join(\"`\" + str(x).replace('/', '_') + \"`\" for x in mydict.keys())+',`currency_code`'\n",
    "            columns = ', '.join( str(x).replace('/', '_') for x in mydict.keys())+',currency_code'\n",
    "            values = ', '.join(\"'\" + str(x).replace('/', '_') + \"'\" for x in mydict.values())+','+\"'\"+crypto+\"'\"\n",
    "            #values = ', '.join(str(x).replace('/', '_') for x in mydict.values())+',BTC'\n",
    "            sql = \"INSERT INTO %s ( %s ) VALUES ( %s );\" % ('history', columns, values) \n",
    "            cur = conn.cursor()\n",
    "            cur.execute(sql)\n",
    "            conn.commit()\n",
    "    \n",
    "    Date = '2016-01-01'\n",
    "    CDate = '2020-05-13'\n",
    "    all_crypto_history = []\n",
    "    lent = 100"
   ]
  },
  {
   "cell_type": "code",
   "execution_count": 80,
   "metadata": {},
   "outputs": [],
   "source": [
    "import  pgdb"
   ]
  },
  {
   "cell_type": "code",
   "execution_count": 3,
   "metadata": {},
   "outputs": [
    {
     "ename": "NameError",
     "evalue": "name 'sql' is not defined",
     "output_type": "error",
     "traceback": [
      "\u001b[1;31m---------------------------------------------------------------------------\u001b[0m",
      "\u001b[1;31mNameError\u001b[0m                                 Traceback (most recent call last)",
      "\u001b[1;32m<ipython-input-3-00f8eef34783>\u001b[0m in \u001b[0;36m<module>\u001b[1;34m\u001b[0m\n\u001b[1;32m----> 1\u001b[1;33m \u001b[0msql\u001b[0m\u001b[1;33m\u001b[0m\u001b[1;33m\u001b[0m\u001b[0m\n\u001b[0m",
      "\u001b[1;31mNameError\u001b[0m: name 'sql' is not defined"
     ]
    }
   ],
   "source": [
    "sql"
   ]
  },
  {
   "cell_type": "code",
   "execution_count": 313,
   "metadata": {},
   "outputs": [
    {
     "data": {
      "text/plain": [
       "{'error': 'Too many requests - You have exceeded your API key last 24 hour requests executed limit, please wait for new requests or contact support for upgrading your existing plan.',\n",
       " 'faq_0': 'Q: How requests are calculated? A: The request is a single API call to our REST API without `limit` parameter. Or with `limit` parameter, the request is counted every 100 data points returned by the API.',\n",
       " 'faq_1': 'Q: How I can monitor number of requests left? A: Every authenticated API call providing information about the current state of the limits in the HTTP response headers, more info here: https://docs.coinapi.io/#request-limits',\n",
       " 'faq_2': \"Q: I'm on Professional plan. How I can have more requests? A: Please contact support at the https://www.coinapi.io/support for more information.\",\n",
       " 'faq_3': \"Q: I'm on free plan and I didn't executed 100 requests yet and got 429 error. A: Free plan contains additional limitations to prevent fraud and usage of the multiple free API keys to obey the limits.\"}"
      ]
     },
     "execution_count": 313,
     "metadata": {},
     "output_type": "execute_result"
    }
   ],
   "source": [
    "all_crypto_hist"
   ]
  },
  {
   "cell_type": "code",
   "execution_count": 169,
   "metadata": {},
   "outputs": [
    {
     "data": {
      "text/plain": [
       "{'time_period_start': '2016-04-09T00:00:00.0000000Z',\n",
       " 'time_period_end': '2016-04-10T00:00:00.0000000Z',\n",
       " 'time_open': '2016-04-09T00:00:09.2970000Z',\n",
       " 'time_close': '2016-04-09T23:59:51.1930000Z',\n",
       " 'price_open': 417.75,\n",
       " 'price_high': 420.75,\n",
       " 'price_low': 412.0,\n",
       " 'price_close': 418.24,\n",
       " 'volume_traded': 7966.49239012,\n",
       " 'trades_count': 22517}"
      ]
     },
     "execution_count": 169,
     "metadata": {},
     "output_type": "execute_result"
    }
   ],
   "source": [
    "all_crypto_history[0][99]"
   ]
  },
  {
   "cell_type": "code",
   "execution_count": 283,
   "metadata": {},
   "outputs": [],
   "source": [
    "import psycopg2\n",
    "conn = psycopg2.connect(host=\"34.105.201.48\",database=\"crypto_db\", user=\"postgres\", password=\"12345\")"
   ]
  },
  {
   "cell_type": "code",
   "execution_count": null,
   "metadata": {},
   "outputs": [],
   "source": []
  },
  {
   "cell_type": "code",
   "execution_count": 1,
   "metadata": {},
   "outputs": [
    {
     "ename": "NameError",
     "evalue": "name 'all_crypto_history' is not defined",
     "output_type": "error",
     "traceback": [
      "\u001b[1;31m---------------------------------------------------------------------------\u001b[0m",
      "\u001b[1;31mNameError\u001b[0m                                 Traceback (most recent call last)",
      "\u001b[1;32m<ipython-input-1-e8efb73b9866>\u001b[0m in \u001b[0;36m<module>\u001b[1;34m\u001b[0m\n\u001b[1;32m----> 1\u001b[1;33m \u001b[1;32mfor\u001b[0m \u001b[0ma\u001b[0m \u001b[1;32min\u001b[0m \u001b[0mrange\u001b[0m\u001b[1;33m(\u001b[0m\u001b[0mlen\u001b[0m\u001b[1;33m(\u001b[0m\u001b[0mall_crypto_history\u001b[0m\u001b[1;33m)\u001b[0m\u001b[1;33m)\u001b[0m\u001b[1;33m:\u001b[0m\u001b[1;33m\u001b[0m\u001b[1;33m\u001b[0m\u001b[0m\n\u001b[0m\u001b[0;32m      2\u001b[0m     \u001b[1;32mfor\u001b[0m \u001b[0mb\u001b[0m \u001b[1;32min\u001b[0m \u001b[0mrange\u001b[0m\u001b[1;33m(\u001b[0m\u001b[0mlen\u001b[0m\u001b[1;33m(\u001b[0m\u001b[0mall_crypto_history\u001b[0m\u001b[1;33m[\u001b[0m\u001b[0ma\u001b[0m\u001b[1;33m]\u001b[0m\u001b[1;33m)\u001b[0m\u001b[1;33m)\u001b[0m\u001b[1;33m:\u001b[0m\u001b[1;33m\u001b[0m\u001b[1;33m\u001b[0m\u001b[0m\n\u001b[0;32m      3\u001b[0m         \u001b[0mmydict\u001b[0m \u001b[1;33m=\u001b[0m \u001b[0mall_crypto_history\u001b[0m\u001b[1;33m[\u001b[0m\u001b[0ma\u001b[0m\u001b[1;33m]\u001b[0m\u001b[1;33m[\u001b[0m\u001b[0mb\u001b[0m\u001b[1;33m]\u001b[0m\u001b[1;33m\u001b[0m\u001b[1;33m\u001b[0m\u001b[0m\n\u001b[0;32m      4\u001b[0m         \u001b[1;31m#columns = ', '.join(\"`\" + str(x).replace('/', '_') + \"`\" for x in mydict.keys())+',`currency_code`'\u001b[0m\u001b[1;33m\u001b[0m\u001b[1;33m\u001b[0m\u001b[1;33m\u001b[0m\u001b[0m\n\u001b[0;32m      5\u001b[0m         \u001b[0mcolumns\u001b[0m \u001b[1;33m=\u001b[0m \u001b[1;34m', '\u001b[0m\u001b[1;33m.\u001b[0m\u001b[0mjoin\u001b[0m\u001b[1;33m(\u001b[0m \u001b[0mstr\u001b[0m\u001b[1;33m(\u001b[0m\u001b[0mx\u001b[0m\u001b[1;33m)\u001b[0m\u001b[1;33m.\u001b[0m\u001b[0mreplace\u001b[0m\u001b[1;33m(\u001b[0m\u001b[1;34m'/'\u001b[0m\u001b[1;33m,\u001b[0m \u001b[1;34m'_'\u001b[0m\u001b[1;33m)\u001b[0m \u001b[1;32mfor\u001b[0m \u001b[0mx\u001b[0m \u001b[1;32min\u001b[0m \u001b[0mmydict\u001b[0m\u001b[1;33m.\u001b[0m\u001b[0mkeys\u001b[0m\u001b[1;33m(\u001b[0m\u001b[1;33m)\u001b[0m\u001b[1;33m)\u001b[0m\u001b[1;33m+\u001b[0m\u001b[1;34m',currency_code'\u001b[0m\u001b[1;33m\u001b[0m\u001b[1;33m\u001b[0m\u001b[0m\n",
      "\u001b[1;31mNameError\u001b[0m: name 'all_crypto_history' is not defined"
     ]
    }
   ],
   "source": [
    "for a in range(len(all_crypto_history)):\n",
    "    for b in range(len(all_crypto_history[a])):\n",
    "        mydict = all_crypto_history[a][b]\n",
    "        #columns = ', '.join(\"`\" + str(x).replace('/', '_') + \"`\" for x in mydict.keys())+',`currency_code`'\n",
    "        columns = ', '.join( str(x).replace('/', '_') for x in mydict.keys())+',currency_code'\n",
    "        values = ', '.join(\"'\" + str(x).replace('/', '_') + \"'\" for x in mydict.values())+\",'BTC'\"\n",
    "        #values = ', '.join(str(x).replace('/', '_') for x in mydict.values())+',BTC'\n",
    "        sql = \"INSERT INTO %s ( %s ) VALUES ( %s );\" % ('history', columns, values) \n",
    "        cur = conn.cursor()\n",
    "        cur.execute(sql)\n",
    "        conn.commit()\n",
    "all_crypto_history = []"
   ]
  },
  {
   "cell_type": "code",
   "execution_count": 289,
   "metadata": {},
   "outputs": [
    {
     "data": {
      "text/plain": [
       "16"
      ]
     },
     "execution_count": 289,
     "metadata": {},
     "output_type": "execute_result"
    }
   ],
   "source": [
    "len(all_crypto_history[0:])"
   ]
  },
  {
   "cell_type": "code",
   "execution_count": 272,
   "metadata": {},
   "outputs": [
    {
     "ename": "IndentationError",
     "evalue": "unexpected indent (<ipython-input-272-e4b038035dbc>, line 4)",
     "output_type": "error",
     "traceback": [
      "\u001b[1;36m  File \u001b[1;32m\"<ipython-input-272-e4b038035dbc>\"\u001b[1;36m, line \u001b[1;32m4\u001b[0m\n\u001b[1;33m    all_crypto_hist.append(response.json())\u001b[0m\n\u001b[1;37m    ^\u001b[0m\n\u001b[1;31mIndentationError\u001b[0m\u001b[1;31m:\u001b[0m unexpected indent\n"
     ]
    }
   ],
   "source": [
    "url = 'https://rest.coinapi.io/v1/ohlcv/'+crypto+'/USD/history?period_id=1MTH&time_start=2016-01-01T00:00:00'\n",
    "headers = {'X-CoinAPI-Key' : '5F05CF33-3E41-4497-87D8-FC78008BF174'}\n",
    "response = requests.get(url, headers=headers)\n",
    "    all_crypto_hist.append(response.json())"
   ]
  },
  {
   "cell_type": "code",
   "execution_count": 38,
   "metadata": {},
   "outputs": [],
   "source": [
    "username = crpto\n",
    "password=12345"
   ]
  },
  {
   "cell_type": "code",
   "execution_count": 268,
   "metadata": {},
   "outputs": [],
   "source": [
    "import psycopg2\n",
    "conn = psycopg2.connect(host=\"34.105.201.48\",database=\"crypto_db\", user=\"postgres\", password=\"12345\")"
   ]
  },
  {
   "cell_type": "code",
   "execution_count": 276,
   "metadata": {},
   "outputs": [],
   "source": [
    "#Create Table to store all cryptocurrencies\n",
    "query1 =' CREATE TABLE currencies (currency_id SERIAL PRIMARY KEY,currency_code VARCHAR(255) NOT NULL,currency_name VARCHAR(255) NOT NULL )'\n",
    "\n",
    "query3 = 'select * from history'"
   ]
  },
  {
   "cell_type": "code",
   "execution_count": 267,
   "metadata": {},
   "outputs": [],
   "source": [
    "#Create Table to store all cryptocurrencies historical data\n",
    "query2 = 'CREATE TABLE history (id SERIAL,currency_code VARCHAR(255),time_period_end VARCHAR(255)  NOT NULL,time_period_start VARCHAR(255)  NOT NULL,time_open VARCHAR(255)  NOT NULL,time_close VARCHAR(255)  NOT NULL,price_open VARCHAR(255)  NOT NULL,price_high VARCHAR(255)  NOT NULL,price_low VARCHAR(255)  NOT NULL,price_close VARCHAR(255)  NOT NULL,volume_traded VARCHAR(255)  NOT NULL,trades_count VARCHAR(255)  NOT NULL)'"
   ]
  },
  {
   "cell_type": "code",
   "execution_count": 247,
   "metadata": {},
   "outputs": [],
   "source": [
    "query3='DROP TABLE history'"
   ]
  },
  {
   "cell_type": "code",
   "execution_count": 278,
   "metadata": {
    "collapsed": true,
    "jupyter": {
     "outputs_hidden": true
    }
   },
   "outputs": [
    {
     "data": {
      "text/plain": [
       "[(1,\n",
       "  'BTC',\n",
       "  '2016-04-10T00:00:00.0000000Z',\n",
       "  '2016-04-09T00:00:00.0000000Z',\n",
       "  '2016-04-09T00:00:09.2970000Z',\n",
       "  '2016-04-09T23:59:51.1930000Z',\n",
       "  '417.75',\n",
       "  '420.75',\n",
       "  '412.0',\n",
       "  '418.24',\n",
       "  '7966.49239012',\n",
       "  '22517'),\n",
       " (2,\n",
       "  'BTC',\n",
       "  '2016-04-10T00:00:00.0000000Z',\n",
       "  '2016-04-09T00:00:00.0000000Z',\n",
       "  '2016-04-09T00:00:09.2970000Z',\n",
       "  '2016-04-09T23:59:51.1930000Z',\n",
       "  '417.75',\n",
       "  '420.75',\n",
       "  '412.0',\n",
       "  '418.24',\n",
       "  '7966.49239012',\n",
       "  '22517'),\n",
       " (3,\n",
       "  'BTC',\n",
       "  '2016-04-10T00:00:00.0000000Z',\n",
       "  '2016-04-09T00:00:00.0000000Z',\n",
       "  '2016-04-09T00:00:09.2970000Z',\n",
       "  '2016-04-09T23:59:51.1930000Z',\n",
       "  '417.75',\n",
       "  '420.75',\n",
       "  '412.0',\n",
       "  '418.24',\n",
       "  '7966.49239012',\n",
       "  '22517'),\n",
       " (4,\n",
       "  'BTC',\n",
       "  '2016-04-10T00:00:00.0000000Z',\n",
       "  '2016-04-09T00:00:00.0000000Z',\n",
       "  '2016-04-09T00:00:09.2970000Z',\n",
       "  '2016-04-09T23:59:51.1930000Z',\n",
       "  '417.75',\n",
       "  '420.75',\n",
       "  '412.0',\n",
       "  '418.24',\n",
       "  '7966.49239012',\n",
       "  '22517'),\n",
       " (5,\n",
       "  'BTC',\n",
       "  '2016-04-10T00:00:00.0000000Z',\n",
       "  '2016-04-09T00:00:00.0000000Z',\n",
       "  '2016-04-09T00:00:09.2970000Z',\n",
       "  '2016-04-09T23:59:51.1930000Z',\n",
       "  '417.75',\n",
       "  '420.75',\n",
       "  '412.0',\n",
       "  '418.24',\n",
       "  '7966.49239012',\n",
       "  '22517')]"
      ]
     },
     "execution_count": 278,
     "metadata": {},
     "output_type": "execute_result"
    }
   ],
   "source": [
    "# create a cursor\n",
    "cur = conn.cursor()\n",
    "        \n",
    "# execute a statement\n",
    "cur.execute(query3)\n",
    "a = cur.fetchmany(100)\n",
    "a"
   ]
  },
  {
   "cell_type": "code",
   "execution_count": 279,
   "metadata": {},
   "outputs": [],
   "source": [
    "conn.commit()"
   ]
  },
  {
   "cell_type": "code",
   "execution_count": 256,
   "metadata": {},
   "outputs": [],
   "source": [
    "cur.close()"
   ]
  },
  {
   "cell_type": "code",
   "execution_count": 213,
   "metadata": {},
   "outputs": [],
   "source": [
    "cur.execute(sql)"
   ]
  },
  {
   "cell_type": "code",
   "execution_count": 69,
   "metadata": {},
   "outputs": [],
   "source": [
    "import psycopg2 #  PostgreSQL database adapter for Python\n",
    "conn = psycopg2.connect(host=\"34.105.201.48\",database=\"crypto_db\", user=\"postgres\", password=\"12345\")  # create connection instance to postgre DB\n",
    "cursor = conn.cursor()\n",
    "q1= 'select currency_code,left(time_period_end,10) as Date,price_close from history order by currency_code asc, left(time_period_end,10)  desc limit 100'\n",
    "cursor.execute(q1)"
   ]
  },
  {
   "cell_type": "code",
   "execution_count": 68,
   "metadata": {},
   "outputs": [],
   "source": [
    "cursor.close()"
   ]
  },
  {
   "cell_type": "code",
   "execution_count": 10,
   "metadata": {},
   "outputs": [
    {
     "ename": "IndexError",
     "evalue": "tuple index out of range",
     "output_type": "error",
     "traceback": [
      "\u001b[1;31m---------------------------------------------------------------------------\u001b[0m",
      "\u001b[1;31mIndexError\u001b[0m                                Traceback (most recent call last)",
      "\u001b[1;32m<ipython-input-10-65395f7f9231>\u001b[0m in \u001b[0;36m<module>\u001b[1;34m\u001b[0m\n\u001b[0;32m      1\u001b[0m \u001b[0moptions\u001b[0m \u001b[1;33m=\u001b[0m \u001b[0mlist\u001b[0m\u001b[1;33m(\u001b[0m\u001b[1;33m)\u001b[0m\u001b[1;33m\u001b[0m\u001b[1;33m\u001b[0m\u001b[0m\n\u001b[0;32m      2\u001b[0m \u001b[1;32mfor\u001b[0m \u001b[0mi\u001b[0m\u001b[1;33m,\u001b[0m\u001b[0mrow\u001b[0m \u001b[1;32min\u001b[0m \u001b[0menumerate\u001b[0m\u001b[1;33m(\u001b[0m\u001b[0mcursor\u001b[0m\u001b[1;33m.\u001b[0m\u001b[0mfetchall\u001b[0m\u001b[1;33m(\u001b[0m\u001b[1;33m)\u001b[0m\u001b[1;33m)\u001b[0m\u001b[1;33m:\u001b[0m\u001b[1;33m\u001b[0m\u001b[1;33m\u001b[0m\u001b[0m\n\u001b[1;32m----> 3\u001b[1;33m    \u001b[0moptions\u001b[0m\u001b[1;33m.\u001b[0m\u001b[0mappend\u001b[0m\u001b[1;33m(\u001b[0m\u001b[0mrow\u001b[0m\u001b[1;33m[\u001b[0m\u001b[0mi\u001b[0m\u001b[1;33m]\u001b[0m\u001b[1;33m)\u001b[0m\u001b[1;33m\u001b[0m\u001b[1;33m\u001b[0m\u001b[0m\n\u001b[0m",
      "\u001b[1;31mIndexError\u001b[0m: tuple index out of range"
     ]
    }
   ],
   "source": [
    "\n",
    "for i,row in enumerate(cursor.fetchall()):\n",
    "   options.append(row[i])"
   ]
  },
  {
   "cell_type": "code",
   "execution_count": 70,
   "metadata": {
    "collapsed": true,
    "jupyter": {
     "outputs_hidden": true
    }
   },
   "outputs": [
    {
     "data": {
      "text/plain": [
       "[('BTC', '2020-05-13', '8915.0'),\n",
       " ('BTC', '2020-05-12', '8570.8'),\n",
       " ('BTC', '2020-05-11', '8729.86'),\n",
       " ('BTC', '2020-05-10', '9537.21'),\n",
       " ('BTC', '2020-05-09', '9801.35'),\n",
       " ('BTC', '2020-05-08', '10004.77'),\n",
       " ('BTC', '2020-05-07', '9155.79'),\n",
       " ('BTC', '2020-05-06', '9023.6'),\n",
       " ('BTC', '2020-05-05', '8883.53'),\n",
       " ('BTC', '2020-05-04', '8909.95'),\n",
       " ('BTC', '2020-05-03', '8985.58'),\n",
       " ('BTC', '2020-05-02', '8829.42'),\n",
       " ('BTC', '2020-05-01', '8627.32'),\n",
       " ('BTC', '2020-04-30', '8793.75'),\n",
       " ('BTC', '2020-04-29', '7755.01'),\n",
       " ('BTC', '2020-04-28', '7792.4'),\n",
       " ('BTC', '2020-04-27', '7706.4'),\n",
       " ('BTC', '2020-04-26', '7547.61'),\n",
       " ('BTC', '2020-04-25', '7514.64'),\n",
       " ('BTC', '2020-04-24', '7488.83'),\n",
       " ('BTC', '2020-04-23', '7136.9'),\n",
       " ('BTC', '2020-04-22', '6853.68'),\n",
       " ('BTC', '2020-04-21', '6842.8'),\n",
       " ('BTC', '2020-04-20', '7130.71'),\n",
       " ('BTC', '2020-04-19', '7261.76'),\n",
       " ('BTC', '2020-04-18', '7037.46'),\n",
       " ('BTC', '2020-04-17', '7112.64'),\n",
       " ('BTC', '2020-04-16', '6624.12'),\n",
       " ('BTC', '2020-04-15', '6874.5'),\n",
       " ('BTC', '2020-04-14', '6861.21'),\n",
       " ('BTC', '2020-04-13', '6903.7'),\n",
       " ('BTC', '2020-04-12', '6889.6'),\n",
       " ('BTC', '2020-04-11', '6873.8'),\n",
       " ('BTC', '2020-04-10', '7294.1'),\n",
       " ('BTC', '2020-04-09', '7370.11'),\n",
       " ('BTC', '2020-04-08', '7200.01'),\n",
       " ('BTC', '2020-04-07', '7341.56'),\n",
       " ('BTC', '2020-04-06', '6778.25'),\n",
       " ('BTC', '2020-04-05', '6874.77'),\n",
       " ('BTC', '2020-04-04', '6741.99'),\n",
       " ('BTC', '2020-04-03', '6804.52'),\n",
       " ('BTC', '2020-04-02', '6666.11'),\n",
       " ('BTC', '2020-04-01', '6424.35'),\n",
       " ('BTC', '2020-03-31', '6406.4'),\n",
       " ('BTC', '2020-03-30', '5875.0'),\n",
       " ('BTC', '2020-03-29', '6251.82'),\n",
       " ('BTC', '2020-03-28', '6372.36'),\n",
       " ('BTC', '2020-03-27', '6758.18'),\n",
       " ('BTC', '2020-03-26', '6690.96'),\n",
       " ('BTC', '2020-03-25', '6766.64'),\n",
       " ('BTC', '2020-03-24', '6490.63'),\n",
       " ('BTC', '2020-03-23', '5818.25'),\n",
       " ('BTC', '2020-03-22', '6196.3'),\n",
       " ('BTC', '2020-03-21', '6210.14'),\n",
       " ('BTC', '2020-03-20', '6186.26'),\n",
       " ('BTC', '2020-03-19', '5413.64'),\n",
       " ('BTC', '2020-03-18', '5331.71'),\n",
       " ('BTC', '2020-03-17', '5037.61'),\n",
       " ('BTC', '2020-03-16', '5343.45'),\n",
       " ('BTC', '2020-03-15', '5165.25'),\n",
       " ('BTC', '2020-03-14', '5622.74'),\n",
       " ('BTC', '2020-03-13', '4857.1'),\n",
       " ('BTC', '2020-03-12', '7938.05'),\n",
       " ('BTC', '2020-03-11', '7885.92'),\n",
       " ('BTC', '2020-03-10', '7934.52'),\n",
       " ('BTC', '2020-03-09', '8037.76'),\n",
       " ('BTC', '2020-03-08', '8893.93'),\n",
       " ('BTC', '2020-03-07', '9158.51'),\n",
       " ('BTC', '2020-03-06', '9070.17'),\n",
       " ('BTC', '2020-03-05', '8758.7'),\n",
       " ('BTC', '2020-03-04', '8757.84'),\n",
       " ('BTC', '2020-03-03', '8912.92'),\n",
       " ('BTC', '2020-03-02', '8522.31'),\n",
       " ('BTC', '2020-03-01', '8529.1'),\n",
       " ('BTC', '2020-02-29', '8703.84'),\n",
       " ('BTC', '2020-02-28', '8816.5'),\n",
       " ('BTC', '2020-02-27', '8778.3'),\n",
       " ('BTC', '2020-02-26', '9305.0'),\n",
       " ('BTC', '2020-02-25', '9660.0'),\n",
       " ('BTC', '2020-02-24', '9965.01'),\n",
       " ('BTC', '2020-02-23', '9668.23'),\n",
       " ('BTC', '2020-02-22', '9695.66'),\n",
       " ('BTC', '2020-02-21', '9610.05'),\n",
       " ('BTC', '2020-02-20', '9602.2'),\n",
       " ('BTC', '2020-02-19', '10188.04'),\n",
       " ('BTC', '2020-02-18', '9700.0'),\n",
       " ('BTC', '2020-02-17', '9921.0'),\n",
       " ('BTC', '2020-02-16', '9911.22'),\n",
       " ('BTC', '2020-02-15', '10364.04'),\n",
       " ('BTC', '2020-02-14', '10228.67'),\n",
       " ('BTC', '2020-02-13', '10351.13'),\n",
       " ('BTC', '2020-02-12', '10270.01'),\n",
       " ('BTC', '2020-02-11', '9851.78'),\n",
       " ('BTC', '2020-02-10', '10173.97'),\n",
       " ('BTC', '2020-02-09', '9904.3'),\n",
       " ('BTC', '2020-02-08', '9808.05'),\n",
       " ('BTC', '2020-02-07', '9763.01'),\n",
       " ('BTC', '2020-02-06', '9613.82'),\n",
       " ('BTC', '2020-02-05', '9164.33'),\n",
       " ('BTC', '2020-02-04', '9280.49')]"
      ]
     },
     "execution_count": 70,
     "metadata": {},
     "output_type": "execute_result"
    }
   ],
   "source": [
    "options = list()\n",
    "for row in cursor.fetchall():\n",
    "    options.append(row)\n",
    "options"
   ]
  },
  {
   "cell_type": "code",
   "execution_count": 60,
   "metadata": {},
   "outputs": [
    {
     "data": {
      "text/plain": [
       "['2020-05-13',\n",
       " '2020-05-12',\n",
       " '2020-05-11',\n",
       " '2020-05-10',\n",
       " '2020-05-09',\n",
       " '2020-05-08',\n",
       " '2020-05-07',\n",
       " '2020-05-06',\n",
       " '2020-05-05',\n",
       " '2020-05-04']"
      ]
     },
     "execution_count": 60,
     "metadata": {},
     "output_type": "execute_result"
    }
   ],
   "source": [
    "dates = list()\n",
    "for a in range(len(options)):\n",
    "    dates.append(options[a][1:2][0])\n",
    "dates[0:10]"
   ]
  },
  {
   "cell_type": "code",
   "execution_count": 71,
   "metadata": {},
   "outputs": [
    {
     "data": {
      "text/plain": [
       "['8915.0',\n",
       " '8570.8',\n",
       " '8729.86',\n",
       " '9537.21',\n",
       " '9801.35',\n",
       " '10004.77',\n",
       " '9155.79',\n",
       " '9023.6',\n",
       " '8883.53',\n",
       " '8909.95']"
      ]
     },
     "execution_count": 71,
     "metadata": {},
     "output_type": "execute_result"
    }
   ],
   "source": [
    "price = list()\n",
    "for a in range(len(options)):\n",
    "    price.append(options[a][2:3][0])\n",
    "price[0:10]"
   ]
  },
  {
   "cell_type": "code",
   "execution_count": 62,
   "metadata": {},
   "outputs": [
    {
     "data": {
      "text/plain": [
       "['BTC', 'BTC', 'BTC', 'BTC', 'BTC', 'BTC', 'BTC', 'BTC', 'BTC', 'BTC']"
      ]
     },
     "execution_count": 62,
     "metadata": {},
     "output_type": "execute_result"
    }
   ],
   "source": [
    "currency = list()\n",
    "for a in range(len(options)):\n",
    "    currency.append(options[a][0:1][0])\n",
    "currency[0:10]"
   ]
  },
  {
   "cell_type": "code",
   "execution_count": 83,
   "metadata": {},
   "outputs": [],
   "source": [
    "cursor.close()"
   ]
  },
  {
   "cell_type": "code",
   "execution_count": 85,
   "metadata": {},
   "outputs": [],
   "source": [
    "import pgdb #  PostgreSQL database adapter for Python\n",
    "conn = pgdb.connect(host=\"34.105.201.48\",database=\"crypto_db\", user=\"postgres\", password=\"12345\")  # create connection instance to postgre DB\n",
    "cursor = conn.cursor()\n",
    "q1= 'select currency_code,left(time_period_end,10) as Date,price_close from history order by currency_code asc, left(time_period_end,10)  desc limit 1000'\n",
    "cursor.execute(q1)\n",
    "\n",
    "options = list()\n",
    "for row in cursor.fetchall():\n",
    "    options.append(row)\n",
    "    \n",
    "dates = list()\n",
    "for a in range(len(options)):\n",
    "    dates.append(options[a][1:2][0])\n",
    "    \n",
    "price = list()\n",
    "for a in range(len(options)):\n",
    "    price.append(options[a][2:3][0])\n",
    "    \n",
    "currency = list()\n",
    "for a in range(len(options)):\n",
    "    currency.append(options[a][0:1][0])"
   ]
  },
  {
   "cell_type": "code",
   "execution_count": 86,
   "metadata": {},
   "outputs": [
    {
     "data": {
      "text/plain": [
       "1000"
      ]
     },
     "execution_count": 86,
     "metadata": {},
     "output_type": "execute_result"
    }
   ],
   "source": [
    "len(price)"
   ]
  },
  {
   "cell_type": "code",
   "execution_count": 87,
   "metadata": {},
   "outputs": [
    {
     "data": {
      "text/plain": [
       "1000"
      ]
     },
     "execution_count": 87,
     "metadata": {},
     "output_type": "execute_result"
    }
   ],
   "source": [
    "len(price)"
   ]
  },
  {
   "cell_type": "code",
   "execution_count": 9,
   "metadata": {},
   "outputs": [
    {
     "ename": "IndexError",
     "evalue": "tuple index out of range",
     "output_type": "error",
     "traceback": [
      "\u001b[1;31m---------------------------------------------------------------------------\u001b[0m",
      "\u001b[1;31mIndexError\u001b[0m                                Traceback (most recent call last)",
      "\u001b[1;32m<ipython-input-9-b431cd7a212b>\u001b[0m in \u001b[0;36m<module>\u001b[1;34m\u001b[0m\n\u001b[0;32m     16\u001b[0m \u001b[0mprice\u001b[0m \u001b[1;33m=\u001b[0m \u001b[0mlist\u001b[0m\u001b[1;33m(\u001b[0m\u001b[1;33m)\u001b[0m\u001b[1;33m\u001b[0m\u001b[1;33m\u001b[0m\u001b[0m\n\u001b[0;32m     17\u001b[0m \u001b[1;32mfor\u001b[0m \u001b[0ma\u001b[0m \u001b[1;32min\u001b[0m \u001b[0mrange\u001b[0m\u001b[1;33m(\u001b[0m\u001b[0mlen\u001b[0m\u001b[1;33m(\u001b[0m\u001b[0moptions\u001b[0m\u001b[1;33m)\u001b[0m\u001b[1;33m)\u001b[0m\u001b[1;33m:\u001b[0m\u001b[1;33m\u001b[0m\u001b[1;33m\u001b[0m\u001b[0m\n\u001b[1;32m---> 18\u001b[1;33m     \u001b[0mprice\u001b[0m\u001b[1;33m.\u001b[0m\u001b[0mappend\u001b[0m\u001b[1;33m(\u001b[0m\u001b[0moptions\u001b[0m\u001b[1;33m[\u001b[0m\u001b[0ma\u001b[0m\u001b[1;33m]\u001b[0m\u001b[1;33m[\u001b[0m\u001b[1;36m2\u001b[0m\u001b[1;33m:\u001b[0m\u001b[1;36m3\u001b[0m\u001b[1;33m]\u001b[0m\u001b[1;33m[\u001b[0m\u001b[1;36m0\u001b[0m\u001b[1;33m]\u001b[0m\u001b[1;33m)\u001b[0m\u001b[1;33m\u001b[0m\u001b[1;33m\u001b[0m\u001b[0m\n\u001b[0m\u001b[0;32m     19\u001b[0m \u001b[1;33m\u001b[0m\u001b[0m\n\u001b[0;32m     20\u001b[0m \u001b[0mcurrency\u001b[0m \u001b[1;33m=\u001b[0m \u001b[0mlist\u001b[0m\u001b[1;33m(\u001b[0m\u001b[1;33m)\u001b[0m\u001b[1;33m\u001b[0m\u001b[1;33m\u001b[0m\u001b[0m\n",
      "\u001b[1;31mIndexError\u001b[0m: tuple index out of range"
     ]
    }
   ],
   "source": [
    "import psycopg2 #  PostgreSQL database adapter for Python\n",
    "conn = psycopg2.connect(host=\"34.105.201.48\",database=\"crypto_db\", user=\"postgres\", password=\"12345\")  # create connection instance to postgre DB\n",
    "cursor = conn.cursor()\n",
    "q1= 'select currency_code,left(time_period_end,10) as Date,price_close from history order by currency_code asc, left(time_period_end,10)  desc limit 100'\n",
    "q2 = 'select  left(time_period_end,7) as Year_, round(AVG(CAST (price_close AS decimal)),0) as AVRG  from history where currency_code='+\"'\"+coin1+\"'\"+' group by currency_code, left(time_period_end,7) order by Year_ asc'\n",
    "cursor.execute(q2)\n",
    "\n",
    "options = list()\n",
    "for row in cursor.fetchall():\n",
    "    options.append(row)\n",
    "    \n",
    "dates = list()\n",
    "for a in range(len(options)):\n",
    "    dates.append(options[a][1:2][0])\n",
    "    \n",
    "price = list()\n",
    "for a in range(len(options)):\n",
    "    price.append(options[a][2:3][0])\n",
    "    \n",
    "currency = list()\n",
    "for a in range(len(options)):\n",
    "    currency.append(options[a][0:1][0])"
   ]
  },
  {
   "cell_type": "code",
   "execution_count": 31,
   "metadata": {},
   "outputs": [],
   "source": [
    "import psycopg2 #  PostgreSQL database adapter for Python\n",
    "conn = psycopg2.connect(host=\"34.105.201.48\",database=\"crypto_db\", user=\"postgres\", password=\"12345\")  # create connection instance to postgre DB\n",
    "cursor = conn.cursor()\n",
    "q1= 'select currency_code,left(time_period_end,10) as Date,price_close from history order by currency_code asc, left(time_period_end,10)  desc limit 100'\n",
    "q2 = 'select  left(time_period_end,7) as Year_, round(AVG(CAST (price_close AS decimal)),0) as AVRG  from history where currency_code='+\"'\"+coin1+\"'\"+' group by currency_code, left(time_period_end,7) order by Year_ asc'\n",
    "cursor.execute(q2)"
   ]
  },
  {
   "cell_type": "code",
   "execution_count": 39,
   "metadata": {},
   "outputs": [
    {
     "data": {
      "text/plain": [
       "['412',\n",
       " '401',\n",
       " '415',\n",
       " '433',\n",
       " '460',\n",
       " '638',\n",
       " '664',\n",
       " '581',\n",
       " '605',\n",
       " '640',\n",
       " '724',\n",
       " '818',\n",
       " '913',\n",
       " '1060',\n",
       " '1134',\n",
       " '1210',\n",
       " '1858',\n",
       " '2611',\n",
       " '2495',\n",
       " '3817',\n",
       " '4114',\n",
       " '5278',\n",
       " '7652',\n",
       " '15054',\n",
       " '13053',\n",
       " '9380',\n",
       " '9091',\n",
       " '7945',\n",
       " '8481',\n",
       " '6807',\n",
       " '7080',\n",
       " '6702',\n",
       " '6600',\n",
       " '6424',\n",
       " '5426',\n",
       " '3670',\n",
       " '3668',\n",
       " '3646',\n",
       " '3914',\n",
       " '5107',\n",
       " '7181',\n",
       " '9323',\n",
       " '10675',\n",
       " '10651',\n",
       " '9833',\n",
       " '8356',\n",
       " '8390',\n",
       " '7258',\n",
       " '8299',\n",
       " '9667',\n",
       " '6942',\n",
       " '7150',\n",
       " '9075']"
      ]
     },
     "execution_count": 39,
     "metadata": {},
     "output_type": "execute_result"
    }
   ],
   "source": [
    "dates = list()\n",
    "for a in range(len(options)):\n",
    "    dates.append(str(options[a][1:2][0]))\n",
    "dates"
   ]
  },
  {
   "cell_type": "code",
   "execution_count": 34,
   "metadata": {},
   "outputs": [
    {
     "data": {
      "text/plain": [
       "'412'"
      ]
     },
     "execution_count": 34,
     "metadata": {},
     "output_type": "execute_result"
    }
   ],
   "source": [
    "str(a)"
   ]
  },
  {
   "cell_type": "code",
   "execution_count": null,
   "metadata": {},
   "outputs": [],
   "source": []
  }
 ],
 "metadata": {
  "kernelspec": {
   "display_name": "Python 3",
   "language": "python",
   "name": "python3"
  },
  "language_info": {
   "codemirror_mode": {
    "name": "ipython",
    "version": 3
   },
   "file_extension": ".py",
   "mimetype": "text/x-python",
   "name": "python",
   "nbconvert_exporter": "python",
   "pygments_lexer": "ipython3",
   "version": "3.7.6"
  }
 },
 "nbformat": 4,
 "nbformat_minor": 4
}
